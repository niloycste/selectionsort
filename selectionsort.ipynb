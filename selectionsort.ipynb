{
 "cells": [
  {
   "cell_type": "markdown",
   "metadata": {},
   "source": [
    "#selectionsort"
   ]
  },
  {
   "cell_type": "code",
   "execution_count": 6,
   "metadata": {},
   "outputs": [
    {
     "name": "stdout",
     "output_type": "stream",
     "text": [
      "[56, 3, 2, 78, 6, 0]\n",
      "[0, 3, 2, 78, 6, 56]\n",
      "[0, 2, 3, 78, 6, 56]\n",
      "[0, 2, 3, 78, 6, 56]\n",
      "[0, 2, 3, 6, 78, 56]\n",
      "[0, 2, 3, 6, 56, 78]\n",
      "[0, 2, 3, 6, 56, 78]\n",
      "sorted list [0, 2, 3, 6, 56, 78]\n"
     ]
    }
   ],
   "source": [
    "list=[56,3,2,78,6,0]\n",
    "print(list)\n",
    "for i in range(len(list)):\n",
    "    min_value=min(list[i:])\n",
    "    min_index=list.index(min_value)\n",
    "    list[i],list[min_index]=list[min_index],list[i]\n",
    "    print(list)\n",
    "print(\"sorted list\",list)    \n",
    "    \n",
    "    "
   ]
  },
  {
   "cell_type": "markdown",
   "metadata": {},
   "source": [
    "#userinput"
   ]
  },
  {
   "cell_type": "code",
   "execution_count": 9,
   "metadata": {},
   "outputs": [
    {
     "name": "stdout",
     "output_type": "stream",
     "text": [
      "enter the total size of a list: 6\n",
      "enter the values of a list: 34\n",
      "enter the values of a list: 5\n",
      "enter the values of a list: 6\n",
      "enter the values of a list: 81\n",
      "enter the values of a list: 0\n",
      "enter the values of a list: 5\n",
      "unsorted list:  [34, 5, 6, 81, 0, 5]\n",
      "[0, 5, 6, 81, 34, 5]\n",
      "[0, 5, 5, 81, 34, 6]\n",
      "[0, 5, 5, 6, 34, 81]\n",
      "sorted list : [0, 5, 5, 6, 34, 81]\n"
     ]
    }
   ],
   "source": [
    " list=[]\n",
    "size=int(input(\"enter the total size of a list: \"))\n",
    "for i in range(size):\n",
    "    value=int(input(\"enter the values of a list: \"))\n",
    "    list.append(value)\n",
    "print(\"unsorted list: \",list) \n",
    "\n",
    "for i in range(len(list)-1):\n",
    "    min_value=list[i]\n",
    "    for j in range(i+1,len(list)):\n",
    "        if list[j]< min_value:\n",
    "            min_value=list[j]\n",
    "    min_index=list.index(min_value,i)\n",
    "    if list[i]!=list[min_index]:\n",
    "        list[i],list[min_index]=list[min_index],list[i]\n",
    "        print(list)\n",
    "            \n",
    "\n",
    "            \n",
    "    \n",
    "print(\"sorted list :\",list)    \n",
    "        "
   ]
  },
  {
   "cell_type": "code",
   "execution_count": null,
   "metadata": {},
   "outputs": [],
   "source": []
  }
 ],
 "metadata": {
  "kernelspec": {
   "display_name": "Python 3",
   "language": "python",
   "name": "python3"
  },
  "language_info": {
   "codemirror_mode": {
    "name": "ipython",
    "version": 3
   },
   "file_extension": ".py",
   "mimetype": "text/x-python",
   "name": "python",
   "nbconvert_exporter": "python",
   "pygments_lexer": "ipython3",
   "version": "3.7.4"
  }
 },
 "nbformat": 4,
 "nbformat_minor": 2
}
